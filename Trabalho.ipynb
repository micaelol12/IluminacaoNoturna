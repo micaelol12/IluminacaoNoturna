{
 "cells": [
  {
   "cell_type": "code",
   "execution_count": null,
   "metadata": {},
   "outputs": [],
   "source": [
    "import string\n",
    "import tifffile as tiff\n",
    "from PIL import Image\n",
    "import numpy as np\n",
    "import matplotlib.pyplot as plt \n",
    "import os\n",
    "\n",
    "# Get the list of all files and directories\n",
    "path = \"Dados_Raster\"\n",
    "dir_list = os.listdir(path)\n",
    "\n",
    "def converteTifParaJPEG(caminho: string) -> Image:\n",
    "    try:\n",
    "        # Carregar a imagem usando tifffile\n",
    "        data = tiff.imread(caminho)\n",
    "\n",
    "        # Verificar se a imagem foi carregada corretamente\n",
    "        if data is None:\n",
    "            raise ValueError(\"A imagem não foi carregada corretamente.\")\n",
    "\n",
    "        # Se a imagem tiver mais de 3 canais, manter apenas os primeiros 3 canais (RGB)\n",
    "        if data.ndim == 3 and data.shape[2] > 3:\n",
    "            data = data[:, :, :3]\n",
    "        elif data.ndim < 3:\n",
    "            # Converter imagens em escala de cinza para RGB duplicando os canais\n",
    "            data = np.stack((data,) * 3, axis=-1)\n",
    "\n",
    "        # Converter para imagem PIL e salvar como .jpeg\n",
    "        tif_image = Image.fromarray(data.astype('uint8'))\n",
    "        \n",
    "        return tif_image\n",
    "\n",
    "    except Exception as e:\n",
    "        print(f\"Ocorreu um erro: {e}\")\n",
    "\n",
    "class ImageRaster:\n",
    "  def __init__(self, img, title):\n",
    "    self.img = img\n",
    "    self.title = title\n",
    "\n",
    "imagens = []\n",
    "\n",
    "for i, dir in enumerate(dir_list):\n",
    "    teste = ImageRaster(np.array(converteTifParaJPEG(\"Dados_Raster/\"+ dir)),dir)\n",
    "    imagens.append(teste)\n",
    "\n",
    "for i, imagem in enumerate(imagens):\n",
    "    plt.imshow(imagem.img)\n",
    "    plt.title(imagem.title)\n",
    "    plt.show()\n",
    "\n"
   ]
  }
 ],
 "metadata": {
  "kernelspec": {
   "display_name": "Python 3",
   "language": "python",
   "name": "python3"
  },
  "language_info": {
   "codemirror_mode": {
    "name": "ipython",
    "version": 3
   },
   "file_extension": ".py",
   "mimetype": "text/x-python",
   "name": "python",
   "nbconvert_exporter": "python",
   "pygments_lexer": "ipython3",
   "version": "3.12.6"
  }
 },
 "nbformat": 4,
 "nbformat_minor": 2
}
